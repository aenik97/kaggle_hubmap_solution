{
 "cells": [
  {
   "cell_type": "code",
   "execution_count": 1,
   "id": "bfd5ab05",
   "metadata": {},
   "outputs": [],
   "source": [
    "import os\n",
    "import sys\n",
    "import numpy as np\n",
    "import pandas as pd\n",
    "import torch\n",
    "import torch.nn as nn\n",
    "import torch.nn.functional as F\n",
    "from torch.utils.data import Dataset\n",
    "import albumentations as A\n",
    "from albumentations.pytorch import ToTensorV2\n",
    "from skimage import io\n",
    "\n",
    "import pvt_v2_kaggle as pvt_v2\n",
    "import daformer\n",
    "import rle_format\n",
    "\n",
    "device = 'cuda' if torch.cuda.is_available() else 'cpu'\n",
    "\n",
    "DATA_FOLDER = '../input/hubmap-organ-segmentation'\n",
    "\n",
    "# model hyperparameters\n",
    "H = 704\n",
    "W = H\n",
    "MODEL_CHECKPOINT = 'pvt_v2_b4_1_704_IoULoss_0.006121101323515177.pth' # Your checkpoint"
   ]
  },
  {
   "cell_type": "markdown",
   "id": "48dcaab9",
   "metadata": {},
   "source": [
    "### Dataset"
   ]
  },
  {
   "cell_type": "code",
   "execution_count": 2,
   "id": "95c5f597",
   "metadata": {},
   "outputs": [],
   "source": [
    "class HubmapDataset(Dataset):\n",
    "    def __init__(\n",
    "        self, \n",
    "        idxs\n",
    "    ):\n",
    "        self.idxs = idxs\n",
    "        self.image_dir = os.path.join(DATA_FOLDER, 'test_images')\n",
    "        self.df = pd.read_csv(os.path.join(DATA_FOLDER, 'test.csv')).set_index('id').loc[self.idxs]\n",
    "\n",
    "            \n",
    "        self.transform = A.Compose([\n",
    "            A.Resize(\n",
    "                height=H, \n",
    "                width=W,\n",
    "                p=1\n",
    "            ),\n",
    "            A.Normalize(\n",
    "                mean=[0.485, 0.456, 0.406],\n",
    "                std=[0.229, 0.224, 0.225],\n",
    "                p=1\n",
    "            ),\n",
    "            ToTensorV2(p=1),\n",
    "        ])\n",
    "        \n",
    "    def __len__(self):\n",
    "        return len(self.idxs)\n",
    "\n",
    "    def __getitem__(self, idx):\n",
    "        idx = self.idxs[idx]\n",
    "        img_name = os.path.join(self.image_dir,f'{idx}.tiff')\n",
    "        image = io.imread(img_name)\n",
    "        \n",
    "        transformed = self.transform(image=image)\n",
    "        sample = {\n",
    "            'pixel_values': transformed['image'],\n",
    "            'size': (self.df.loc[idx, 'img_height'], self.df.loc[idx, 'img_width'])\n",
    "        }\n",
    "\n",
    "        return sample\n"
   ]
  },
  {
   "cell_type": "markdown",
   "id": "5317f016",
   "metadata": {},
   "source": [
    "### model class"
   ]
  },
  {
   "cell_type": "code",
   "execution_count": 3,
   "id": "cf9cd92f",
   "metadata": {},
   "outputs": [],
   "source": [
    "class Decoder(nn.Module):\n",
    "    def __init__(\n",
    "        self,\n",
    "    ):\n",
    "        super(Decoder, self).__init__()\n",
    "        self.decoder =  daformer.daformer_conv3x3(\n",
    "                                    encoder_dim = [64, 128, 320, 512],\n",
    "                                    decoder_dim = 320,\n",
    "                                    dilation = None)\n",
    "        self.logit = nn.Sequential(\n",
    "            nn.Conv2d(320, 1, kernel_size=1),\n",
    "        )\n",
    "        \n",
    "    def forward(self, x):\n",
    "        x = self.decoder(x)[0]\n",
    "        x = self.logit(x)\n",
    "        return x\n",
    "\n",
    "\n",
    "class EncDec(nn.Module):\n",
    "    def __init__(self):\n",
    "        super(EncDec, self).__init__()\n",
    "        self.encoder = pvt_v2.pvt_v2_b4()\n",
    "        self.decoder = Decoder()\n",
    "        self.upsamle = nn.Upsample(\n",
    "            scale_factor=4,\n",
    "            mode='bilinear'\n",
    "        )\n",
    "    \n",
    "    def forward(self, x):\n",
    "        x = self.encoder(x)\n",
    "        x = self.decoder(x)\n",
    "        \n",
    "        return self.upsamle(x)\n"
   ]
  },
  {
   "cell_type": "code",
   "execution_count": 4,
   "id": "8978964c",
   "metadata": {},
   "outputs": [],
   "source": [
    "test_df = pd.read_csv(os.path.join(DATA_FOLDER, 'test.csv'))\n",
    "sub_df = test_df[['id']].copy()\n",
    "sub_df['rle'] = ''"
   ]
  },
  {
   "cell_type": "code",
   "execution_count": 5,
   "id": "c94a0347",
   "metadata": {},
   "outputs": [],
   "source": [
    "test_dataset = HubmapDataset(\n",
    "    idxs=test_df['id'].values\n",
    ")"
   ]
  },
  {
   "cell_type": "code",
   "execution_count": 6,
   "id": "9fd5ee59",
   "metadata": {},
   "outputs": [],
   "source": [
    "model = EncDec()\n",
    "\n",
    "model.load_state_dict(torch.load(\n",
    "    f'../model_checkpoints/{MODEL_CHECKPOINT}',\n",
    "    map_location=torch.device(device)\n",
    "))\n",
    "\n",
    "model = model.to(device)\n",
    "model = model.eval();"
   ]
  },
  {
   "cell_type": "markdown",
   "id": "246a5379",
   "metadata": {},
   "source": [
    "### Create submission"
   ]
  },
  {
   "cell_type": "code",
   "execution_count": 7,
   "id": "0df24d1b",
   "metadata": {},
   "outputs": [],
   "source": [
    "def flip(tensor, mode=0):\n",
    "    if mode:\n",
    "        return torch.fliplr(tensor)\n",
    "    return tensor\n",
    "\n",
    "\n",
    "def symmetric_group(model, dataset_element):\n",
    "    with torch.no_grad():\n",
    "        rot_tensor_list = []\n",
    "        for mode in [0, 1]:\n",
    "            for angle in [0, 1, 2, 3]:\n",
    "                roted_image = torch.rot90(dataset_element['pixel_values'].unsqueeze(0), angle, [2, 3])\n",
    "                flipped_image = flip(roted_image, mode)\n",
    "                predicted_image = model(flipped_image.to(device))\n",
    "                unflipped_image = flip(predicted_image, mode)\n",
    "                unroted_image = torch.rot90(unflipped_image, -angle, [2, 3])\n",
    "                upsize_image = F.interpolate(unroted_image, dataset_element['size'])\n",
    "                rot_tensor_list.append(upsize_image)\n",
    "    return torch.sigmoid(torch.cat(rot_tensor_list).mean(0))"
   ]
  },
  {
   "cell_type": "code",
   "execution_count": 8,
   "id": "b93d1d42",
   "metadata": {},
   "outputs": [],
   "source": [
    "org_thr ={\n",
    "    'prostate': 0.1,\n",
    "    'lung': 0.05,\n",
    "    'largeintestine': 0.3,\n",
    "    'spleen': 0.95,\n",
    "    'kidney': 0.7,\n",
    "}"
   ]
  },
  {
   "cell_type": "code",
   "execution_count": 9,
   "id": "14a9582f",
   "metadata": {},
   "outputs": [],
   "source": [
    "with torch.no_grad():\n",
    "    for i in range(sub_df.shape[0]):\n",
    "        if test_df.iloc[i]['data_source'] == 'Hubmap':\n",
    "            thrshold = org_thr[test_df.iloc[i]['organ']]\n",
    "            result_image = (symmetric_group(model, test_dataset[i]).cpu() > thrshold).int()\n",
    "                \n",
    "            sub_df.loc[i, 'rle'] = rle_format.mask2rle(result_image.permute(1, 2, 0).numpy())\n",
    "sub_df.to_csv('submission.csv', index=False)"
   ]
  },
  {
   "cell_type": "code",
   "execution_count": 10,
   "id": "7b72b73a",
   "metadata": {},
   "outputs": [
    {
     "data": {
      "text/plain": [
       "<matplotlib.image.AxesImage at 0x154508580>"
      ]
     },
     "execution_count": 10,
     "metadata": {},
     "output_type": "execute_result"
    },
    {
     "data": {
      "image/png": "[encoded data removed]",
      "text/plain": [
       "<Figure size 640x480 with 1 Axes>"
      ]
     },
     "metadata": {},
     "output_type": "display_data"
    }
   ],
   "source": [
    "io.imshow(result_image[0].numpy())"
   ]
  }
 ],
 "metadata": {
  "kernelspec": {
   "display_name": "Python 3 (ipykernel)",
   "language": "python",
   "name": "python3"
  },
  "language_info": {
   "codemirror_mode": {
    "name": "ipython",
    "version": 3
   },
   "file_extension": ".py",
   "mimetype": "text/x-python",
   "name": "python",
   "nbconvert_exporter": "python",
   "pygments_lexer": "ipython3",
   "version": "3.9.15"
  }
 },
 "nbformat": 4,
 "nbformat_minor": 5
}
